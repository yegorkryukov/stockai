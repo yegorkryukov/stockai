{
 "cells": [
  {
   "cell_type": "markdown",
   "metadata": {},
   "source": [
    "The text from news articles does not appear to be need to be cleaned. This notebook is using advanced named entity recognition (NER) with spacy for feature extraction. The features will be used at a later step for modeling."
   ]
  },
  {
   "cell_type": "code",
   "execution_count": 1,
   "metadata": {},
   "outputs": [
    {
     "name": "stderr",
     "output_type": "stream",
     "text": [
      "100%|██████████| 6633/6633 [00:55<00:00, 118.93it/s]\n"
     ]
    },
    {
     "data": {
      "text/plain": [
       "0       Smead Capital Management/the Smead Value Fund,...\n",
       "1                                 the U.S. Congress, 1996\n",
       "2                                                   three\n",
       "3       Tuesday, Apple, four, iPhones - the iPhone, 12...\n",
       "4                              Apple, at least five years\n",
       "                              ...                        \n",
       "6628                         Netflix, NFLX, Apple, Disney\n",
       "6629                                               iPhone\n",
       "6630                                              AirPods\n",
       "6631                                Apple, US, 50 percent\n",
       "6632                                                  NaN\n",
       "Name: ents, Length: 6633, dtype: object"
      ]
     },
     "execution_count": 1,
     "metadata": {},
     "output_type": "execute_result"
    }
   ],
   "source": [
    "import pandas as pd\n",
    "import spacy\n",
    "# import swifter\n",
    "from tqdm.autonotebook import tqdm\n",
    "\n",
    "# load data\n",
    "filename = '../data/AAPL_2019-04-01_2020-10-15.csv'\n",
    "df = pd.read_csv(filename)\n",
    "# df.info()\n",
    "\n",
    "# set this option if you want to look into texts of the articles\n",
    "# pd.set_option('display.max_colwidth', None)\n",
    "# df.text[:5].values.tolist()\n",
    "\n",
    "\n",
    "# NER\n",
    "nlp = spacy.load('en_core_web_sm')\n",
    "\n",
    "def extract_ents(nlp: spacy.lang.en.English, sentence: str) -> str:\n",
    "    \"\"\"NER using spacy.\"\"\"\n",
    "    doc = nlp(sentence)\n",
    "#     TODO add rule based matching for iPhone [NUMBER]\n",
    "    if doc.ents:\n",
    "        return [(ent.text, ent.label_) for ent in doc.ents]\n",
    "    return [('NaN', 'NaN')]\n",
    "\n",
    "# this should speedup the df apply, not sure it works\n",
    "# df['ents'] = df.text\\\n",
    "#     .swifter.allow_dask_on_strings(enable=True).progress_bar(enable=True)\\\n",
    "#     .apply(lambda x: ', '.join([e[0] for e in extract_ents(nlp, x)]))\n",
    "# df.ents.tail()\n",
    "\n",
    "texts = df.text.values.tolist()\n",
    "ents = [None for x in range(len(texts))]\n",
    "\n",
    "for i, text in enumerate(tqdm(texts)):\n",
    "    ents[i] = ', '.join([e[0] for e in extract_ents(nlp, text)])\n",
    "\n",
    "df['ents'] = ents\n",
    "df.to_csv(filename, index=False)\n",
    "\n",
    "df.ents"
   ]
  }
 ],
 "metadata": {
  "kernelspec": {
   "display_name": "Python 3.8.3 64-bit ('springboard': conda)",
   "language": "python",
   "name": "python38364bitspringboardconda8eec40d942e84bf0a5a0c76aa15b276b"
  },
  "language_info": {
   "codemirror_mode": {
    "name": "ipython",
    "version": 3
   },
   "file_extension": ".py",
   "mimetype": "text/x-python",
   "name": "python",
   "nbconvert_exporter": "python",
   "pygments_lexer": "ipython3",
   "version": "3.8.5"
  }
 },
 "nbformat": 4,
 "nbformat_minor": 4
}
