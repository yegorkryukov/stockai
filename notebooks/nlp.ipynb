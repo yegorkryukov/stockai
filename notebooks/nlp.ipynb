{
 "cells": [
  {
   "cell_type": "code",
   "execution_count": 3,
   "metadata": {},
   "outputs": [
    {
     "name": "stdout",
     "output_type": "stream",
     "text": [
      "<class 'pandas.core.frame.DataFrame'>\n",
      "RangeIndex: 6633 entries, 0 to 6632\n",
      "Data columns (total 11 columns):\n",
      " #   Column       Non-Null Count  Dtype \n",
      "---  ------       --------------  ----- \n",
      " 0   news_url     6633 non-null   object\n",
      " 1   image_url    6633 non-null   object\n",
      " 2   title        6633 non-null   object\n",
      " 3   text         6633 non-null   object\n",
      " 4   source_name  6633 non-null   object\n",
      " 5   date         6633 non-null   object\n",
      " 6   topics       6633 non-null   object\n",
      " 7   sentiment    6633 non-null   object\n",
      " 8   type         6633 non-null   object\n",
      " 9   tickers      6633 non-null   object\n",
      " 10  news_id      6633 non-null   int64 \n",
      "dtypes: int64(1), object(10)\n",
      "memory usage: 570.1+ KB\n"
     ]
    }
   ],
   "source": [
    "import pandas as pd\n",
    "\n",
    "# load data\n",
    "df = pd.read_csv('../data/AAPL_2019-04-01_2020-10-15.csv')\n",
    "df.info()"
   ]
  },
  {
   "cell_type": "code",
   "execution_count": null,
   "metadata": {},
   "outputs": [],
   "source": []
  }
 ],
 "metadata": {
  "kernelspec": {
   "display_name": "Python 3.8.3 64-bit ('springboard': conda)",
   "language": "python",
   "name": "python38364bitspringboardconda8eec40d942e84bf0a5a0c76aa15b276b"
  },
  "language_info": {
   "codemirror_mode": {
    "name": "ipython",
    "version": 3
   },
   "file_extension": ".py",
   "mimetype": "text/x-python",
   "name": "python",
   "nbconvert_exporter": "python",
   "pygments_lexer": "ipython3",
   "version": "3.8.5"
  }
 },
 "nbformat": 4,
 "nbformat_minor": 4
}
