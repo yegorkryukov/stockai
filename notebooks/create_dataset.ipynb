{
 "cells": [
  {
   "cell_type": "markdown",
   "metadata": {},
   "source": [
    "# Project structure:\n",
    "\n",
    "```\n",
    "stockai\n",
    "├── __init__.py\n",
    "├── __main__.py\n",
    "├── app.py\n",
    "├── config\n",
    "│   ├── __init__.py\n",
    "│   └── config.py\n",
    "├── data_collection\n",
    "│   ├── __init__.py\n",
    "│   ├── extract_text.py\n",
    "│   ├── extract_urls.py\n",
    "│   ├── geckodriver\n",
    "│   ├── logs\n",
    "│   │   ├── extract_urls.log\n",
    "│   │   └── multi_text_extraction.log\n",
    "│   ├── newsapi.py\n",
    "│   └── stocknewsapi_com.py\n",
    "├── data_prep\n",
    "│   └── fix_date.py\n",
    "└── ml\n",
    "    └── __init__.py\n",
    "```"
   ]
  },
  {
   "cell_type": "markdown",
   "metadata": {},
   "source": [
    "## Data Collection\n",
    "\n",
    "1. `data_collection/extract_urls.py` extracts URLs for news articles related to S&P500 companies. \n",
    "    1. Main sources:\n",
    "        1. Yahoo news\n",
    "        2. finviz.com\n",
    "        3. *usanews* subreddit\n",
    "    2. Additional sources:\n",
    "        1. `newsapi.py` Newsapi and 20+ media outlets\n",
    "        2. `stocknewsapi_com.py` convenient source of URLs from February 2018+\n",
    "2. `data_collection/extract_text.py` visits URLs collected on the previous step and extracts text from the articles. **Data quality assurance** steps:\n",
    "    1. Use Selenium Firefox driver to get JS article content from webpages.\n",
    "    2. Use *outline.com* engine to go through paywalls\n",
    "    3. Use original URL to extract HTML if outline fails\n",
    "    4. Pass *html* to *Newspaper3K* package to extract text and meta data checking the length of article (>200 words)\n",
    "    5. Strip text from extra symbols and save to DB: `\" \".join(re.split(r'[\\n\\t]+'`\n",
    "    \n",
    "URLs and data are stored in **MongoDB**"
   ]
  },
  {
   "cell_type": "markdown",
   "metadata": {},
   "source": [
    "## Data Cleaning"
   ]
  },
  {
   "cell_type": "code",
   "execution_count": 1,
   "metadata": {},
   "outputs": [],
   "source": [
    "def clean_and_tokenize_text(text):\n",
    "    \"\"\"\n",
    "    Cleans `text` from punctuation and special symbols\n",
    "    \"\"\"    \n",
    "    # need to adjust this for better cleaning\n",
    "    from nltk.tokenize import word_tokenize\n",
    "    from nltk.stem import WordNetLemmatizer\n",
    "    from nltk.corpus import stopwords\n",
    "\n",
    "    lower_alpha_tokens = [w for w in word_tokenize(text.lower()) if w.isalpha()]\n",
    "    no_stop = [t for t in lower_alpha_tokens if t not in set(stopwords.words('english'))]\n",
    "    \n",
    "    wnl = WordNetLemmatizer()\n",
    "    lemmatized = [wnl.lemmatize(t) for t in no_stop]\n",
    "    return lemmatized\n",
    "\n",
    "def quality_check(article):\n",
    "    \"\"\"\n",
    "    Checks for quality of the `article` and returns False if it doesnt' pass the \n",
    "    QA check\n",
    "    \"\"\"\n",
    "    \n",
    "    # need to find ways for better QA\n",
    "    if article and len(article.split()) > 200: return True\n",
    "    return False\n",
    "\n",
    "def concat_news(c, ticker, period=1):\n",
    "    \"\"\"\n",
    "    Reads all news from the `DB` for the `ticker`, \n",
    "    concats by the `period`.\n",
    "    \n",
    "    Input\n",
    "    -----\n",
    "    c     : collection, MongoDB\n",
    "    ticker: str, ticker name\n",
    "    period: int, default 1 (day)\n",
    "    \n",
    "    Output\n",
    "    ------\n",
    "    resulting_dictionary: dict, key–day, value–all news for that day\n",
    "    Counter(all_tokens)\n",
    "    \"\"\"\n",
    "    from collections import Counter\n",
    "    \n",
    "    news = c.find_one({\n",
    "        'ticker' : ticker\n",
    "    })['news']\n",
    "    \n",
    "    resulting_dictionary = {}\n",
    "    \n",
    "    all_tokens = []\n",
    "    \n",
    "    for n in news:\n",
    "        try:\n",
    "            date = str(pd.to_datetime(n['datetime']).date())\n",
    "\n",
    "            tokens = clean_and_tokenize_text(n['text'])\n",
    "\n",
    "            text = ' '.join(tokens)\n",
    "\n",
    "            all_tokens.extend(tokens)\n",
    "\n",
    "            if quality_check(text):\n",
    "                if date in resulting_dictionary.keys():\n",
    "                    resulting_dictionary[date] = resulting_dictionary[date] + text\n",
    "                else:\n",
    "                    resulting_dictionary[date] = text\n",
    "        except Exception as e:\n",
    "            print(f\"Cannot process url: {n['url']}\\nError: {e}\")\n",
    "    \n",
    "    return resulting_dictionary, Counter(all_tokens)"
   ]
  },
  {
   "cell_type": "markdown",
   "metadata": {},
   "source": [
    "# ML Prototype\n",
    "\n",
    "Take 1 stock (AAPL), do sentiment and compare to stock price time series"
   ]
  },
  {
   "cell_type": "code",
   "execution_count": 2,
   "metadata": {},
   "outputs": [],
   "source": [
    "# connect to DB\n",
    "import pymongo as pm\n",
    "\n",
    "# Start MongoDB\n",
    "# !brew services start mongodb-community@4.2\n",
    "\n",
    "# Stop MongoDB\n",
    "# !brew services stop mongodb-community@4.2\n",
    "\n",
    "client = pm.MongoClient('mongodb://localhost:27017')\n",
    "c = client['news']['recommendations']"
   ]
  },
  {
   "cell_type": "code",
   "execution_count": 3,
   "metadata": {},
   "outputs": [
    {
     "name": "stdout",
     "output_type": "stream",
     "text": [
      "Cannot process url: http://www.ft.com/cms/s/9c847838-ca25-43cf-a962-0d3588d8d34d,s01=1.html?ftcamp=traffic/partner/feed_headline/us_yahoo/auddev\n",
      "Error: 'NoneType' object has no attribute 'date'\n",
      "Cannot process url: https://www.barrons.com/articles/the-stock-market-is-headed-for-a-huge-quarter-is-a-tech-bubble-in-the-making-51592948400?siteid=yhoof2\n",
      "Error: 'NoneType' object has no attribute 'date'\n",
      "Cannot process url: https://www.barrons.com/articles/mercedes-benz-nvidia-sign-deal-to-make-cars-more-like-iphones-51592933400?siteid=yhoof2\n",
      "Error: 'NoneType' object has no attribute 'date'\n",
      "Cannot process url: https://www.barrons.com/articles/apple-stock-tim-cook-keynote-wwdc-speech-51592929033?siteid=yhoof2\n",
      "Error: 'NoneType' object has no attribute 'date'\n",
      "Cannot process url: https://money.cnn.com/2018/09/26/investing/insider-selling-stocks-buybacks/index.html\n",
      "Error: 'NoneType' object has no attribute 'date'\n",
      "Cannot process url: http://money.cnn.com/2018/04/24/investing/dow-stocks-3m-caterpillar/index.html\n",
      "Error: 'NoneType' object has no attribute 'date'\n",
      "Cannot process url: https://www.barrons.com/articles/for-the-economy-and-stock-markets-expect-a-second-half-of-fits-and-starts-as-covid-19-lingers-51593723715?siteid=yhoof2\n",
      "Error: 'NoneType' object has no attribute 'date'\n",
      "Cannot process url: https://www.barrons.com/articles/what-a-democratic-sweep-could-mean-for-the-market-51593739012?siteid=yhoof2\n",
      "Error: 'NoneType' object has no attribute 'date'\n",
      "Cannot process url: https://www.barrons.com/articles/here-are-the-best-10-tech-stocks-of-2020-so-far-51593730682?siteid=yhoof2\n",
      "Error: 'NoneType' object has no attribute 'date'\n",
      "Cannot process url: https://www.barrons.com/articles/these-5-dividend-funds-offer-the-flexibility-to-weather-the-pandemic-51593693001?siteid=yhoof2\n",
      "Error: 'NoneType' object has no attribute 'date'\n",
      "Cannot process url: https://www.barrons.com/articles/microsoft-tried-to-take-on-amazon-in-videogame-streaming-it-quickly-failed-51593613532?siteid=yhoof2\n",
      "Error: 'NoneType' object has no attribute 'date'\n",
      "Cannot process url: https://www.marketwatch.com/story/these-stocks-including-tesla-and-apple-are-the-real-winners-for-the-second-quarter-of-2020-2020-06-30?siteid=yhoof2\n",
      "Error: 'NoneType' object has no attribute 'date'\n",
      "Cannot process url: http://www.ft.com/cms/s/976fb2cb-3325-478b-82b4-aed030da0041,s01=1.html?ftcamp=traffic/partner/feed_headline/us_yahoo/auddev&yptr=yahoo\n",
      "Error: 'NoneType' object has no attribute 'date'\n",
      "Cannot process url: https://www.barrons.com/articles/no-ceo-was-quicker-to-warn-about-the-financial-risks-from-covid-19-than-apples-tim-cook-51593221073?siteid=yhoof2&yptr=yahoo\n",
      "Error: 'NoneType' object has no attribute 'date'\n",
      "Cannot process url: https://finance.yahoo.com/chart/%5ERUT\n",
      "Error: 'NoneType' object has no attribute 'date'\n",
      "Cannot process url: https://www.barrons.com/articles/apple-shuts-32-stores-covid-19-cases-florida-51593116790?siteid=yhoof2&yptr=yahoo\n",
      "Error: 'NoneType' object has no attribute 'date'\n",
      "Cannot process url: https://finance.yahoo.com/quote/%5EGSPC?p=^GSPC\n",
      "Error: 'NoneType' object has no attribute 'date'\n",
      "Cannot process url: https://www.barrons.com/articles/microsoft-stock-record-first-half-apple-most-valuable-cloud-services-51593549326?siteid=yhoof2&yptr=yahoo\n",
      "Error: 'NoneType' object has no attribute 'date'\n",
      "Cannot process url: https://www.barrons.com/articles/microsoft-tried-to-take-on-amazon-in-videogame-streaming-it-quickly-failed-51593613532?siteid=yhoof2&yptr=yahoo\n",
      "Error: 'NoneType' object has no attribute 'date'\n",
      "Cannot process url: https://www.barrons.com/articles/apple-could-be-worth-2-trillion-51593162001?siteid=yhoof2&yptr=yahoo\n",
      "Error: 'NoneType' object has no attribute 'date'\n",
      "Cannot process url: https://www.barrons.com/articles/what-a-democratic-sweep-could-mean-for-the-market-51593739012?siteid=yhoof2&yptr=yahoo\n",
      "Error: 'NoneType' object has no attribute 'date'\n",
      "Cannot process url: http://www.ft.com/cms/s/2fb504a3-fbc7-40a8-8996-f7dae596c831,s01=1.html?ftcamp=traffic/partner/feed_headline/us_yahoo/auddev&yptr=yahoo\n",
      "Error: 'NoneType' object has no attribute 'date'\n",
      "Cannot process url: https://www.barrons.com/articles/for-the-economy-and-stock-markets-expect-a-second-half-of-fits-and-starts-as-covid-19-lingers-51593723715?siteid=yhoof2&yptr=yahoo\n",
      "Error: 'NoneType' object has no attribute 'date'\n",
      "Cannot process url: https://www.barrons.com/articles/here-are-the-best-10-tech-stocks-of-2020-so-far-51593730682?siteid=yhoof2&yptr=yahoo\n",
      "Error: 'NoneType' object has no attribute 'date'\n",
      "Cannot process url: https://finance.yahoo.com/quote/%5ERUT?p=^RUT\n",
      "Error: 'NoneType' object has no attribute 'date'\n",
      "Cannot process url: http://www.ft.com/cms/s/9446192a-aff1-4e95-93fb-a5adfbc7bbd5,s01=1.html?ftcamp=traffic/partner/feed_headline/us_yahoo/auddev&yptr=yahoo\n",
      "Error: 'NoneType' object has no attribute 'date'\n",
      "Cannot process url: https://finance.yahoo.com/chart/%5EDJI\n",
      "Error: 'NoneType' object has no attribute 'date'\n",
      "Cannot process url: https://finance.yahoo.com/chart/%5EGSPC\n",
      "Error: 'NoneType' object has no attribute 'date'\n",
      "Cannot process url: https://finance.yahoo.com/quote/%5EDJI?p=^DJI\n",
      "Error: 'NoneType' object has no attribute 'date'\n",
      "Cannot process url: https://www.barrons.com/articles/apple-dazzled-with-wwdc-event-why-virtual-trade-shows-could-be-the-future-51593210508?siteid=yhoof2&yptr=yahoo\n",
      "Error: 'NoneType' object has no attribute 'date'\n",
      "Cannot process url: https://www.marketwatch.com/story/these-stocks-including-tesla-and-apple-are-the-real-winners-for-the-second-quarter-of-2020-2020-06-30?siteid=yhoof2&yptr=yahoo\n",
      "Error: 'NoneType' object has no attribute 'date'\n",
      "Cannot process url: https://www.barrons.com/articles/apple-re-closes-30-more-stores-including-15-in-southern-california-51593640322?siteid=yhoof2&yptr=yahoo\n",
      "Error: 'NoneType' object has no attribute 'date'\n",
      "Cannot process url: https://www.barrons.com/articles/these-5-dividend-funds-offer-the-flexibility-to-weather-the-pandemic-51593693001?siteid=yhoof2&yptr=yahoo\n",
      "Error: 'NoneType' object has no attribute 'date'\n",
      "Cannot process url: https://finance.yahoo.com/quote/%5EIXIC?p=^IXIC\n",
      "Error: 'NoneType' object has no attribute 'date'\n",
      "Cannot process url: https://www.barrons.com/articles/next-generation-apple-iphones-seen-shipping-without-power-adapter-or-earpods-51593442895?siteid=yhoof2&yptr=yahoo\n",
      "Error: 'NoneType' object has no attribute 'date'\n",
      "Cannot process url: https://www.barrons.com/articles/stocks-gains-grow-as-boeing-news-housing-sales-boost-spirits-51593449249?siteid=yhoof2&yptr=yahoo\n",
      "Error: 'NoneType' object has no attribute 'date'\n",
      "Cannot process url: https://finance.yahoo.com/chart/%5EIXIC\n",
      "Error: 'NoneType' object has no attribute 'date'\n",
      "Cannot process url: https://www.kiplinger.com/investing/stocks/601032/stock-market-today-070820-tech-stocks-apple-nasdaq-record\n",
      "Error: 'NoneType' object has no attribute 'date'\n",
      "Cannot process url: https://investorplace.com/2020/07/add-greyhound-to-your-list-of-reasons-to-buy-aapl-stock/\n",
      "Error: 'NoneType' object has no attribute 'date'\n"
     ]
    }
   ],
   "source": [
    "from yahoo_fin import stock_info as si \n",
    "import pandas as pd\n",
    "from datetime import date\n",
    "\n",
    "# create dataset for predicting pricing for a company\n",
    "\n",
    "# set the company ticker\n",
    "ticker = 'AAPL'\n",
    "\n",
    "# set interval\n",
    "start_date = '01/01/2019'\n",
    "end_date = date.today()\n",
    "\n",
    "# obtain historical stock pricing data\n",
    "t_data = si.get_data(ticker, start_date=start_date, end_date=end_date)\n",
    "\n",
    "# get the dictionary with all news per period (1 day) and BOW (bag of words)\n",
    "t_news, t_bow = concat_news(c, ticker, period=1)"
   ]
  },
  {
   "cell_type": "code",
   "execution_count": 4,
   "metadata": {},
   "outputs": [
    {
     "data": {
      "text/html": [
       "<div>\n",
       "<style scoped>\n",
       "    .dataframe tbody tr th:only-of-type {\n",
       "        vertical-align: middle;\n",
       "    }\n",
       "\n",
       "    .dataframe tbody tr th {\n",
       "        vertical-align: top;\n",
       "    }\n",
       "\n",
       "    .dataframe thead th {\n",
       "        text-align: right;\n",
       "    }\n",
       "</style>\n",
       "<table border=\"1\" class=\"dataframe\">\n",
       "  <thead>\n",
       "    <tr style=\"text-align: right;\">\n",
       "      <th></th>\n",
       "      <th>text</th>\n",
       "      <th>adjclose</th>\n",
       "    </tr>\n",
       "  </thead>\n",
       "  <tbody>\n",
       "    <tr>\n",
       "      <th>2020-06-15</th>\n",
       "      <td>order social distancing measure protect onesel...</td>\n",
       "      <td>342.989990</td>\n",
       "    </tr>\n",
       "    <tr>\n",
       "      <th>2020-06-16</th>\n",
       "      <td>huge apple nasdaq aapl stock price past year c...</td>\n",
       "      <td>352.079987</td>\n",
       "    </tr>\n",
       "    <tr>\n",
       "      <th>2020-06-17</th>\n",
       "      <td>earlier week apple nasdaq aapl released result...</td>\n",
       "      <td>351.589996</td>\n",
       "    </tr>\n",
       "    <tr>\n",
       "      <th>2020-06-18</th>\n",
       "      <td>patturaja murugaboopathy gaurav dogra june reu...</td>\n",
       "      <td>351.730011</td>\n",
       "    </tr>\n",
       "    <tr>\n",
       "      <th>2020-06-19</th>\n",
       "      <td>two main headline berkshire hathaway nyse nyse...</td>\n",
       "      <td>349.720001</td>\n",
       "    </tr>\n",
       "    <tr>\n",
       "      <th>2020-06-20</th>\n",
       "      <td>dow jones future wo begin trading sunday eveni...</td>\n",
       "      <td>358.869995</td>\n",
       "    </tr>\n",
       "    <tr>\n",
       "      <th>2020-06-21</th>\n",
       "      <td>bloomberg opinion rhetoric repeated frequently...</td>\n",
       "      <td>358.869995</td>\n",
       "    </tr>\n",
       "    <tr>\n",
       "      <th>2020-06-22</th>\n",
       "      <td>live blog stock market click type news window ...</td>\n",
       "      <td>358.869995</td>\n",
       "    </tr>\n",
       "    <tr>\n",
       "      <th>2020-06-23</th>\n",
       "      <td>perhaps better way start new week fresh closin...</td>\n",
       "      <td>366.529999</td>\n",
       "    </tr>\n",
       "    <tr>\n",
       "      <th>2020-06-24</th>\n",
       "      <td>text size global equity pressure another incre...</td>\n",
       "      <td>360.059998</td>\n",
       "    </tr>\n",
       "    <tr>\n",
       "      <th>2020-06-25</th>\n",
       "      <td>dow jones future tilted lower fair value thurs...</td>\n",
       "      <td>364.839996</td>\n",
       "    </tr>\n",
       "    <tr>\n",
       "      <th>2020-06-26</th>\n",
       "      <td>text size spotify technology made bold push po...</td>\n",
       "      <td>353.630005</td>\n",
       "    </tr>\n",
       "    <tr>\n",
       "      <th>2020-06-27</th>\n",
       "      <td>way microsoft msft plan shutter physical retai...</td>\n",
       "      <td>361.779999</td>\n",
       "    </tr>\n",
       "    <tr>\n",
       "      <th>2020-06-28</th>\n",
       "      <td>dow jones future focus sunday evening along p ...</td>\n",
       "      <td>361.779999</td>\n",
       "    </tr>\n",
       "    <tr>\n",
       "      <th>2020-06-29</th>\n",
       "      <td>new york time said want direct relationship su...</td>\n",
       "      <td>361.779999</td>\n",
       "    </tr>\n",
       "    <tr>\n",
       "      <th>2020-06-30</th>\n",
       "      <td>apple aapl news service lost major publisher n...</td>\n",
       "      <td>364.799988</td>\n",
       "    </tr>\n",
       "    <tr>\n",
       "      <th>2020-07-01</th>\n",
       "      <td>printed google logo placed apple macbook illus...</td>\n",
       "      <td>364.109985</td>\n",
       "    </tr>\n",
       "    <tr>\n",
       "      <th>2020-07-02</th>\n",
       "      <td>gained million job june eliminating chunk job ...</td>\n",
       "      <td>364.109985</td>\n",
       "    </tr>\n",
       "    <tr>\n",
       "      <th>2020-07-03</th>\n",
       "      <td>alphabet nasdaq goog nasdaq googl google recen...</td>\n",
       "      <td>373.850006</td>\n",
       "    </tr>\n",
       "    <tr>\n",
       "      <th>2020-07-08</th>\n",
       "      <td>staff member check customer temperature apple ...</td>\n",
       "      <td>381.369995</td>\n",
       "    </tr>\n",
       "  </tbody>\n",
       "</table>\n",
       "</div>"
      ],
      "text/plain": [
       "                                                         text    adjclose\n",
       "2020-06-15  order social distancing measure protect onesel...  342.989990\n",
       "2020-06-16  huge apple nasdaq aapl stock price past year c...  352.079987\n",
       "2020-06-17  earlier week apple nasdaq aapl released result...  351.589996\n",
       "2020-06-18  patturaja murugaboopathy gaurav dogra june reu...  351.730011\n",
       "2020-06-19  two main headline berkshire hathaway nyse nyse...  349.720001\n",
       "2020-06-20  dow jones future wo begin trading sunday eveni...  358.869995\n",
       "2020-06-21  bloomberg opinion rhetoric repeated frequently...  358.869995\n",
       "2020-06-22  live blog stock market click type news window ...  358.869995\n",
       "2020-06-23  perhaps better way start new week fresh closin...  366.529999\n",
       "2020-06-24  text size global equity pressure another incre...  360.059998\n",
       "2020-06-25  dow jones future tilted lower fair value thurs...  364.839996\n",
       "2020-06-26  text size spotify technology made bold push po...  353.630005\n",
       "2020-06-27  way microsoft msft plan shutter physical retai...  361.779999\n",
       "2020-06-28  dow jones future focus sunday evening along p ...  361.779999\n",
       "2020-06-29  new york time said want direct relationship su...  361.779999\n",
       "2020-06-30  apple aapl news service lost major publisher n...  364.799988\n",
       "2020-07-01  printed google logo placed apple macbook illus...  364.109985\n",
       "2020-07-02  gained million job june eliminating chunk job ...  364.109985\n",
       "2020-07-03  alphabet nasdaq goog nasdaq googl google recen...  373.850006\n",
       "2020-07-08  staff member check customer temperature apple ...  381.369995"
      ]
     },
     "execution_count": 4,
     "metadata": {},
     "output_type": "execute_result"
    }
   ],
   "source": [
    "# convert to pandas df\n",
    "t_df = pd.DataFrame.from_dict(t_news, orient='index', columns=['text'])\n",
    "t_df.index = pd.to_datetime(t_df.index)\n",
    "\n",
    "# combine news with stock price 'adjclose'\n",
    "t_combined = pd.concat([t_df, t_data.adjclose], axis=1)\n",
    "\n",
    "# fill adjclose for over the weekends and holiday\n",
    "# logic is the price on monday close is the result of \n",
    "# the news over the weekend hence backfill\n",
    "t_combined.adjclose = t_combined.adjclose.fillna(method='backfill')\n",
    "\n",
    "# drop rows without the stock price\n",
    "t_combined = t_combined[t_combined.adjclose.notna()]\n",
    "\n",
    "# drop rows without news\n",
    "t_combined = t_combined[t_combined.text.notna()]\n",
    "t_combined.tail(20)"
   ]
  },
  {
   "cell_type": "code",
   "execution_count": null,
   "metadata": {},
   "outputs": [],
   "source": [
    "# plot comparison of ridge regression alpha value\n",
    "def display_plot(cv_scores, cv_scores_std):\n",
    "    fig = plt.figure()\n",
    "    ax = fig.add_subplot(1,1,1)\n",
    "    ax.plot(alpha_space, cv_scores)\n",
    "\n",
    "    std_error = cv_scores_std / np.sqrt(10)\n",
    "\n",
    "    ax.fill_between(alpha_space, cv_scores + std_error, cv_scores - std_error, alpha=0.2)\n",
    "    ax.set_ylabel('CV Score +/- Std Error')\n",
    "    ax.set_xlabel('Alpha')\n",
    "    ax.axhline(np.max(cv_scores), linestyle='--', color='.5')\n",
    "    ax.set_xlim([alpha_space[0], alpha_space[-1]])\n",
    "    ax.set_xscale('log')\n",
    "    plt.show()\n",
    "    \n",
    "# Import necessary modules\n",
    "from sklearn.linear_model import Ridge\n",
    "from sklearn.model_selection import cross_val_score\n",
    "\n",
    "# Setup the array of alphas and lists to store scores\n",
    "# ! figure out how to choose this alpha\n",
    "alpha_space = np.logspace(-4, 0, 50)\n",
    "ridge_scores = []\n",
    "ridge_scores_std = []\n",
    "\n",
    "# Create a ridge regressor: ridge\n",
    "ridge = Ridge(normalize=True)\n",
    "\n",
    "# Compute scores over range of alphas\n",
    "for alpha in alpha_space:\n",
    "\n",
    "    # Specify the alpha value to use: ridge.alpha\n",
    "    ridge.alpha = alpha\n",
    "    \n",
    "    # Perform 10-fold CV: ridge_cv_scores\n",
    "    ridge_cv_scores = cross_val_score(ridge, X, y, cv=10)\n",
    "    \n",
    "    # Append the mean of ridge_cv_scores to ridge_scores\n",
    "    ridge_scores.append(np.mean(ridge_cv_scores))\n",
    "    \n",
    "    # Append the std of ridge_cv_scores to ridge_scores_std\n",
    "    ridge_scores_std.append(np.std(ridge_cv_scores))\n",
    "\n",
    "# Display the plot\n",
    "display_plot(ridge_scores, ridge_scores_std)\n"
   ]
  },
  {
   "cell_type": "code",
   "execution_count": null,
   "metadata": {},
   "outputs": [],
   "source": [
    "# how to show the significance of features – great for feature selection\n",
    "# Import Lasso\n",
    "from sklearn.linear_model import Lasso\n",
    "\n",
    "# Instantiate a lasso regressor: lasso\n",
    "lasso = Lasso(alpha=0.4, normalize=True)\n",
    "\n",
    "# Fit the regressor to the data\n",
    "lasso.fit(X, y)\n",
    "\n",
    "# Compute and print the coefficients\n",
    "lasso_coef = lasso.coef_\n",
    "print(lasso_coef)\n",
    "\n",
    "# Plot the coefficients\n",
    "plt.plot(range(len(df_columns)), lasso_coef)\n",
    "plt.xticks(range(len(df_columns)), df_columns.values, rotation=60)\n",
    "plt.margins(0.02)\n",
    "plt.show()"
   ]
  },
  {
   "cell_type": "code",
   "execution_count": 8,
   "metadata": {},
   "outputs": [],
   "source": [
    "t_combined.to_csv(f'../data_collection_pipeline/to_predict/{ticker}.csv', index_label='date')"
   ]
  },
  {
   "cell_type": "code",
   "execution_count": 5,
   "metadata": {},
   "outputs": [
    {
     "data": {
      "text/plain": [
       "49"
      ]
     },
     "execution_count": 5,
     "metadata": {},
     "output_type": "execute_result"
    }
   ],
   "source": [
    "len(t_combined)"
   ]
  },
  {
   "cell_type": "code",
   "execution_count": 12,
   "metadata": {},
   "outputs": [
    {
     "data": {
      "text/plain": [
       "array([154.79498291, 159.41896275, 164.04294259, 168.66692243,\n",
       "       173.29090227, 177.91488211, 182.53886196, 187.1628418 ,\n",
       "       191.78682164, 196.41080148, 201.03478132, 205.65876116,\n",
       "       210.282741  , 214.90672084, 219.53070068, 224.15468052,\n",
       "       228.77866037, 233.40264021, 238.02662005, 242.65059989,\n",
       "       247.27457973, 251.89855957, 256.52253941, 261.14651925,\n",
       "       265.77049909, 270.39447893, 275.01845878, 279.64243862,\n",
       "       284.26641846, 288.8903983 , 293.51437814, 298.13835798,\n",
       "       302.76233782, 307.38631766, 312.0102975 , 316.63427734,\n",
       "       321.25825718, 325.88223703, 330.50621687, 335.13019671,\n",
       "       339.75417655, 344.37815639, 349.00213623, 353.62611607,\n",
       "       358.25009591, 362.87407575, 367.49805559, 372.12203544,\n",
       "       376.74601528, 381.36999512])"
      ]
     },
     "execution_count": 12,
     "metadata": {},
     "output_type": "execute_result"
    }
   ],
   "source": [
    "import numpy as np\n",
    "np.linspace(min(t_combined.adjclose), max(t_combined.adjclose))"
   ]
  },
  {
   "cell_type": "code",
   "execution_count": null,
   "metadata": {},
   "outputs": [],
   "source": [
    "# using cross-validation as a metric for the model\n",
    "from sklearn.linear_model import LinearRegression\n",
    "from sklearn.model_selection import cross_val_score\n",
    "\n",
    "# Create a linear regression object: reg\n",
    "reg = LinearRegression()\n",
    "\n",
    "# Compute 5-fold cross-validation scores: cv_scores\n",
    "cv_scores = cross_val_score(reg, X, y, cv=5)"
   ]
  },
  {
   "cell_type": "code",
   "execution_count": 11,
   "metadata": {},
   "outputs": [
    {
     "data": {
      "text/plain": [
       "<matplotlib.axes._subplots.AxesSubplot at 0x7fd761909670>"
      ]
     },
     "execution_count": 11,
     "metadata": {},
     "output_type": "execute_result"
    },
    {
     "data": {
      "image/png": "[encoded data removed]",
      "text/plain": [
       "<Figure size 432x288 with 2 Axes>"
      ]
     },
     "metadata": {
      "needs_background": "light"
     },
     "output_type": "display_data"
    }
   ],
   "source": [
    "# heatmap was generated using Seaborn's heatmap function \n",
    "# (http://seaborn.pydata.org/generated/seaborn.heatmap.html)\n",
    "# and the following line of code, where df.corr() computes \n",
    "# the pairwise correlation between columns:\n",
    "import seaborn as sns\n",
    "sns.heatmap(t_combined.corr(), square=True, cmap='RdYlGn')\n",
    "\n",
    "# another way\n",
    "corr = feature_target_df.corr() # df with selected features and y value\n",
    "sns.heatmap(corr, annot=True) # annot shows numeric value for each correlation in the plot"
   ]
  },
  {
   "cell_type": "code",
   "execution_count": 9,
   "metadata": {},
   "outputs": [
    {
     "data": {
      "text/plain": [
       "array([[154.79498291],\n",
       "       [154.79498291],\n",
       "       [154.79498291],\n",
       "       [154.79498291],\n",
       "       [154.79498291],\n",
       "       [154.79498291],\n",
       "       [154.79498291],\n",
       "       [154.79498291],\n",
       "       [154.79498291],\n",
       "       [154.79498291],\n",
       "       [154.79498291],\n",
       "       [154.79498291],\n",
       "       [168.26609802],\n",
       "       [211.545578  ],\n",
       "       [286.27505493],\n",
       "       [321.8500061 ],\n",
       "       [323.33999634],\n",
       "       [325.11999512],\n",
       "       [322.32000732],\n",
       "       [331.5       ],\n",
       "       [333.45999146],\n",
       "       [333.45999146],\n",
       "       [333.45999146],\n",
       "       [343.98999023],\n",
       "       [352.83999634],\n",
       "       [335.8999939 ],\n",
       "       [338.79998779],\n",
       "       [342.98999023],\n",
       "       [342.98999023],\n",
       "       [342.98999023],\n",
       "       [352.07998657],\n",
       "       [351.58999634],\n",
       "       [351.73001099],\n",
       "       [349.72000122],\n",
       "       [358.86999512],\n",
       "       [358.86999512],\n",
       "       [358.86999512],\n",
       "       [366.52999878],\n",
       "       [360.05999756],\n",
       "       [364.83999634],\n",
       "       [353.63000488],\n",
       "       [361.77999878],\n",
       "       [361.77999878],\n",
       "       [361.77999878],\n",
       "       [364.79998779],\n",
       "       [364.10998535],\n",
       "       [364.10998535],\n",
       "       [373.8500061 ],\n",
       "       [381.36999512]])"
      ]
     },
     "execution_count": 9,
     "metadata": {},
     "output_type": "execute_result"
    }
   ],
   "source": [
    "# maybe use this line to get values without the index\n",
    "t_combined.adjclose.values.reshape(-1,1)"
   ]
  },
  {
   "cell_type": "code",
   "execution_count": 280,
   "metadata": {},
   "outputs": [],
   "source": [
    "from sklearn.feature_extraction.text import CountVectorizer, TfidfVectorizer\n",
    "from sklearn.linear_model import LogisticRegression, LinearRegression\n",
    "vec = TfidfVectorizer(ngram_range=(1, 1), analyzer='word', max_features=5_000)\n",
    "# mdl = LogisticRegression()\n",
    "mdl = LinearRegression()"
   ]
  },
  {
   "cell_type": "code",
   "execution_count": 281,
   "metadata": {},
   "outputs": [],
   "source": [
    "from sklearn.pipeline import Pipeline\n",
    "pipe = Pipeline(steps=(\n",
    "    ('vec', vec),\n",
    "    ('mdl', mdl)\n",
    "))\n",
    "\n"
   ]
  },
  {
   "cell_type": "code",
   "execution_count": null,
   "metadata": {},
   "outputs": [],
   "source": [
    "from sklearn.model_selection import train_test_split\n",
    "from sklearn import preprocessing\n",
    "from sklearn import utils"
   ]
  },
  {
   "cell_type": "code",
   "execution_count": null,
   "metadata": {},
   "outputs": [],
   "source": [
    "# label_enc = preprocessing.LabelEncoder()\n",
    "# y_enc = label_enc.fit_transform(y)"
   ]
  },
  {
   "cell_type": "code",
   "execution_count": 263,
   "metadata": {},
   "outputs": [
    {
     "data": {
      "text/plain": [
       "<matplotlib.axes._subplots.AxesSubplot at 0x7fa2b35202b0>"
      ]
     },
     "execution_count": 263,
     "metadata": {},
     "output_type": "execute_result"
    },
    {
     "data": {
      "image/png": "[encoded data removed]",
      "text/plain": [
       "<Figure size 432x288 with 1 Axes>"
      ]
     },
     "metadata": {
      "needs_background": "light"
     },
     "output_type": "display_data"
    }
   ],
   "source": [
    "y = t_combined.adjclose\n",
    "y.index.name = 'date'\n",
    "y.loc['2020-01-01':'2020-06-30'].plot()"
   ]
  },
  {
   "cell_type": "code",
   "execution_count": 276,
   "metadata": {},
   "outputs": [
    {
     "data": {
      "text/plain": [
       "<matplotlib.axes._subplots.AxesSubplot at 0x7fa2b33ff9d0>"
      ]
     },
     "execution_count": 276,
     "metadata": {},
     "output_type": "execute_result"
    },
    {
     "data": {
      "image/png": "[encoded data removed]",
      "text/plain": [
       "<Figure size 432x288 with 1 Axes>"
      ]
     },
     "metadata": {
      "needs_background": "light"
     },
     "output_type": "display_data"
    }
   ],
   "source": [
    "import seaborn as sns\n",
    "t_combined['text_len'] = t_combined.text.apply(len)\n",
    "sns.distplot(t_combined.text_len)"
   ]
  },
  {
   "cell_type": "code",
   "execution_count": 288,
   "metadata": {},
   "outputs": [],
   "source": [
    "X, y = t_combined.text, t_combined.adjclose\n",
    "X_train, X_test, y_train, y_test = train_test_split(\n",
    "    X, y, test_size=0.3, random_state=42)"
   ]
  },
  {
   "cell_type": "code",
   "execution_count": 286,
   "metadata": {},
   "outputs": [
    {
     "name": "stdout",
     "output_type": "stream",
     "text": [
      "(49, 5000)\n"
     ]
    }
   ],
   "source": [
    "test = vec.fit_transform(X)\n",
    "print(test.shape)"
   ]
  },
  {
   "cell_type": "code",
   "execution_count": 289,
   "metadata": {},
   "outputs": [
    {
     "data": {
      "text/plain": [
       "Pipeline(steps=[('vec', TfidfVectorizer(max_features=5000)),\n",
       "                ('mdl', LinearRegression())])"
      ]
     },
     "execution_count": 289,
     "metadata": {},
     "output_type": "execute_result"
    }
   ],
   "source": [
    "pipe.fit(X_train, y_train)"
   ]
  },
  {
   "cell_type": "code",
   "execution_count": 292,
   "metadata": {},
   "outputs": [
    {
     "data": {
      "text/plain": [
       "5000"
      ]
     },
     "execution_count": 292,
     "metadata": {},
     "output_type": "execute_result"
    }
   ],
   "source": [
    "len(vec.get_feature_names())"
   ]
  },
  {
   "cell_type": "code",
   "execution_count": null,
   "metadata": {},
   "outputs": [],
   "source": []
  },
  {
   "cell_type": "code",
   "execution_count": 290,
   "metadata": {},
   "outputs": [
    {
     "data": {
      "text/plain": [
       "['LinearRegressionTrained.pkl']"
      ]
     },
     "execution_count": 290,
     "metadata": {},
     "output_type": "execute_result"
    }
   ],
   "source": [
    "import joblib\n",
    "joblib.dump(pipe, 'LinearRegressionTrained.pkl')"
   ]
  },
  {
   "cell_type": "code",
   "execution_count": 293,
   "metadata": {},
   "outputs": [],
   "source": [
    "def make_pred_df(y_true, y_pred):\n",
    "    df = pd.DataFrame({\n",
    "        'y_true': y_true,\n",
    "        'y_pred': y_pred,\n",
    "#         'y_pred_proba': y_pred_proba\n",
    "    })\n",
    "    \n",
    "    df['off'] = (df.y_pred-df.y_true)/y_true*100\n",
    "    \n",
    "    return df"
   ]
  },
  {
   "cell_type": "code",
   "execution_count": 294,
   "metadata": {},
   "outputs": [
    {
     "data": {
      "text/html": [
       "<div>\n",
       "<style scoped>\n",
       "    .dataframe tbody tr th:only-of-type {\n",
       "        vertical-align: middle;\n",
       "    }\n",
       "\n",
       "    .dataframe tbody tr th {\n",
       "        vertical-align: top;\n",
       "    }\n",
       "\n",
       "    .dataframe thead th {\n",
       "        text-align: right;\n",
       "    }\n",
       "</style>\n",
       "<table border=\"1\" class=\"dataframe\">\n",
       "  <thead>\n",
       "    <tr style=\"text-align: right;\">\n",
       "      <th></th>\n",
       "      <th>y_true</th>\n",
       "      <th>y_pred</th>\n",
       "      <th>off</th>\n",
       "    </tr>\n",
       "    <tr>\n",
       "      <th>date</th>\n",
       "      <th></th>\n",
       "      <th></th>\n",
       "      <th></th>\n",
       "    </tr>\n",
       "  </thead>\n",
       "  <tbody>\n",
       "    <tr>\n",
       "      <th>2019-09-06</th>\n",
       "      <td>211.545578</td>\n",
       "      <td>241.257553</td>\n",
       "      <td>14.045189</td>\n",
       "    </tr>\n",
       "    <tr>\n",
       "      <th>2020-07-01</th>\n",
       "      <td>364.109985</td>\n",
       "      <td>337.425501</td>\n",
       "      <td>-7.328688</td>\n",
       "    </tr>\n",
       "    <tr>\n",
       "      <th>2020-07-03</th>\n",
       "      <td>373.850006</td>\n",
       "      <td>289.919850</td>\n",
       "      <td>-22.450222</td>\n",
       "    </tr>\n",
       "    <tr>\n",
       "      <th>2020-06-30</th>\n",
       "      <td>364.799988</td>\n",
       "      <td>340.234322</td>\n",
       "      <td>-6.734010</td>\n",
       "    </tr>\n",
       "    <tr>\n",
       "      <th>2020-06-03</th>\n",
       "      <td>325.119995</td>\n",
       "      <td>330.592768</td>\n",
       "      <td>1.683309</td>\n",
       "    </tr>\n",
       "    <tr>\n",
       "      <th>2020-06-13</th>\n",
       "      <td>342.989990</td>\n",
       "      <td>271.523717</td>\n",
       "      <td>-20.836256</td>\n",
       "    </tr>\n",
       "    <tr>\n",
       "      <th>2020-06-12</th>\n",
       "      <td>338.799988</td>\n",
       "      <td>344.363392</td>\n",
       "      <td>1.642091</td>\n",
       "    </tr>\n",
       "    <tr>\n",
       "      <th>2020-06-11</th>\n",
       "      <td>335.899994</td>\n",
       "      <td>341.638951</td>\n",
       "      <td>1.708532</td>\n",
       "    </tr>\n",
       "    <tr>\n",
       "      <th>2020-06-17</th>\n",
       "      <td>351.589996</td>\n",
       "      <td>353.793547</td>\n",
       "      <td>0.626739</td>\n",
       "    </tr>\n",
       "    <tr>\n",
       "      <th>2020-06-05</th>\n",
       "      <td>331.500000</td>\n",
       "      <td>338.495898</td>\n",
       "      <td>2.110377</td>\n",
       "    </tr>\n",
       "    <tr>\n",
       "      <th>2019-02-19</th>\n",
       "      <td>168.266098</td>\n",
       "      <td>228.846424</td>\n",
       "      <td>36.002693</td>\n",
       "    </tr>\n",
       "    <tr>\n",
       "      <th>2015-09-02</th>\n",
       "      <td>154.794983</td>\n",
       "      <td>223.034177</td>\n",
       "      <td>44.083596</td>\n",
       "    </tr>\n",
       "    <tr>\n",
       "      <th>2020-06-20</th>\n",
       "      <td>358.869995</td>\n",
       "      <td>338.556335</td>\n",
       "      <td>-5.660451</td>\n",
       "    </tr>\n",
       "    <tr>\n",
       "      <th>2018-01-30</th>\n",
       "      <td>154.794983</td>\n",
       "      <td>197.121833</td>\n",
       "      <td>27.343812</td>\n",
       "    </tr>\n",
       "    <tr>\n",
       "      <th>2015-08-25</th>\n",
       "      <td>154.794983</td>\n",
       "      <td>216.907395</td>\n",
       "      <td>40.125597</td>\n",
       "    </tr>\n",
       "  </tbody>\n",
       "</table>\n",
       "</div>"
      ],
      "text/plain": [
       "                y_true      y_pred        off\n",
       "date                                         \n",
       "2019-09-06  211.545578  241.257553  14.045189\n",
       "2020-07-01  364.109985  337.425501  -7.328688\n",
       "2020-07-03  373.850006  289.919850 -22.450222\n",
       "2020-06-30  364.799988  340.234322  -6.734010\n",
       "2020-06-03  325.119995  330.592768   1.683309\n",
       "2020-06-13  342.989990  271.523717 -20.836256\n",
       "2020-06-12  338.799988  344.363392   1.642091\n",
       "2020-06-11  335.899994  341.638951   1.708532\n",
       "2020-06-17  351.589996  353.793547   0.626739\n",
       "2020-06-05  331.500000  338.495898   2.110377\n",
       "2019-02-19  168.266098  228.846424  36.002693\n",
       "2015-09-02  154.794983  223.034177  44.083596\n",
       "2020-06-20  358.869995  338.556335  -5.660451\n",
       "2018-01-30  154.794983  197.121833  27.343812\n",
       "2015-08-25  154.794983  216.907395  40.125597"
      ]
     },
     "execution_count": 294,
     "metadata": {},
     "output_type": "execute_result"
    }
   ],
   "source": [
    "y_pred = pipe.predict(X_test)\n",
    "# y_pred_proba = pipe.predict_proba(X_test).max(axis=1)\n",
    "\n",
    "pred_df = make_pred_df(y_test, y_pred)\n",
    "pred_df"
   ]
  },
  {
   "cell_type": "code",
   "execution_count": 296,
   "metadata": {},
   "outputs": [
    {
     "data": {
      "text/plain": [
       "<matplotlib.axes._subplots.AxesSubplot at 0x7fa2b76d86d0>"
      ]
     },
     "execution_count": 296,
     "metadata": {},
     "output_type": "execute_result"
    },
    {
     "data": {
      "image/png": "[encoded data removed]",
      "text/plain": [
       "<Figure size 432x288 with 1 Axes>"
      ]
     },
     "metadata": {
      "needs_background": "light"
     },
     "output_type": "display_data"
    }
   ],
   "source": [
    "pred_df.plot()"
   ]
  },
  {
   "cell_type": "code",
   "execution_count": null,
   "metadata": {},
   "outputs": [],
   "source": []
  },
  {
   "cell_type": "code",
   "execution_count": null,
   "metadata": {},
   "outputs": [],
   "source": []
  },
  {
   "cell_type": "code",
   "execution_count": null,
   "metadata": {},
   "outputs": [],
   "source": []
  },
  {
   "cell_type": "code",
   "execution_count": null,
   "metadata": {},
   "outputs": [],
   "source": []
  },
  {
   "cell_type": "code",
   "execution_count": null,
   "metadata": {},
   "outputs": [],
   "source": []
  },
  {
   "cell_type": "markdown",
   "metadata": {},
   "source": [
    "## Count number of news per ticker"
   ]
  },
  {
   "cell_type": "code",
   "execution_count": 9,
   "metadata": {},
   "outputs": [
    {
     "data": {
      "text/html": [
       "<div>\n",
       "<style scoped>\n",
       "    .dataframe tbody tr th:only-of-type {\n",
       "        vertical-align: middle;\n",
       "    }\n",
       "\n",
       "    .dataframe tbody tr th {\n",
       "        vertical-align: top;\n",
       "    }\n",
       "\n",
       "    .dataframe thead th {\n",
       "        text-align: right;\n",
       "    }\n",
       "</style>\n",
       "<table border=\"1\" class=\"dataframe\">\n",
       "  <thead>\n",
       "    <tr style=\"text-align: right;\">\n",
       "      <th></th>\n",
       "      <th>_id</th>\n",
       "      <th>total_news</th>\n",
       "    </tr>\n",
       "  </thead>\n",
       "  <tbody>\n",
       "    <tr>\n",
       "      <th>0</th>\n",
       "      <td>FOX</td>\n",
       "      <td>6099</td>\n",
       "    </tr>\n",
       "    <tr>\n",
       "      <th>1</th>\n",
       "      <td>ADS</td>\n",
       "      <td>1671</td>\n",
       "    </tr>\n",
       "    <tr>\n",
       "      <th>2</th>\n",
       "      <td>C</td>\n",
       "      <td>972</td>\n",
       "    </tr>\n",
       "    <tr>\n",
       "      <th>3</th>\n",
       "      <td>AAPL</td>\n",
       "      <td>922</td>\n",
       "    </tr>\n",
       "    <tr>\n",
       "      <th>4</th>\n",
       "      <td>D</td>\n",
       "      <td>892</td>\n",
       "    </tr>\n",
       "    <tr>\n",
       "      <th>...</th>\n",
       "      <td>...</td>\n",
       "      <td>...</td>\n",
       "    </tr>\n",
       "    <tr>\n",
       "      <th>500</th>\n",
       "      <td>BWA</td>\n",
       "      <td>56</td>\n",
       "    </tr>\n",
       "    <tr>\n",
       "      <th>501</th>\n",
       "      <td>TT</td>\n",
       "      <td>40</td>\n",
       "    </tr>\n",
       "    <tr>\n",
       "      <th>502</th>\n",
       "      <td>HWM</td>\n",
       "      <td>36</td>\n",
       "    </tr>\n",
       "    <tr>\n",
       "      <th>503</th>\n",
       "      <td>OTIS</td>\n",
       "      <td>19</td>\n",
       "    </tr>\n",
       "    <tr>\n",
       "      <th>504</th>\n",
       "      <td>BRK.B</td>\n",
       "      <td>9</td>\n",
       "    </tr>\n",
       "  </tbody>\n",
       "</table>\n",
       "<p>505 rows × 2 columns</p>\n",
       "</div>"
      ],
      "text/plain": [
       "       _id  total_news\n",
       "0      FOX        6099\n",
       "1      ADS        1671\n",
       "2        C         972\n",
       "3     AAPL         922\n",
       "4        D         892\n",
       "..     ...         ...\n",
       "500    BWA          56\n",
       "501     TT          40\n",
       "502    HWM          36\n",
       "503   OTIS          19\n",
       "504  BRK.B           9\n",
       "\n",
       "[505 rows x 2 columns]"
      ]
     },
     "execution_count": 9,
     "metadata": {},
     "output_type": "execute_result"
    }
   ],
   "source": [
    "res = c.aggregate([\n",
    "    {'$unwind':'$news'},\n",
    "#     {'$project':{'_id':0,'ticker':1,'total_news':{'$size':'$news'}}},\n",
    "    {'$group':{'_id':'$ticker', 'total_news': {'$sum':1}}},\n",
    "    {'$sort':{'total_news':-1}},\n",
    "#     {'$limit':10}\n",
    "], allowDiskUse=True)\n",
    "\n",
    "# for r in res:\n",
    "#     print(r)\n",
    "pd.DataFrame(list(res))"
   ]
  },
  {
   "cell_type": "code",
   "execution_count": null,
   "metadata": {},
   "outputs": [],
   "source": []
  },
  {
   "cell_type": "code",
   "execution_count": null,
   "metadata": {},
   "outputs": [],
   "source": []
  },
  {
   "cell_type": "code",
   "execution_count": null,
   "metadata": {},
   "outputs": [],
   "source": []
  },
  {
   "cell_type": "code",
   "execution_count": null,
   "metadata": {},
   "outputs": [],
   "source": []
  },
  {
   "cell_type": "code",
   "execution_count": null,
   "metadata": {},
   "outputs": [],
   "source": []
  }
 ],
 "metadata": {
  "kernelspec": {
   "display_name": "Python 3.8.3 64-bit ('springboard': conda)",
   "language": "python",
   "name": "python38364bitspringboardconda8eec40d942e84bf0a5a0c76aa15b276b"
  },
  "language_info": {
   "codemirror_mode": {
    "name": "ipython",
    "version": 3
   },
   "file_extension": ".py",
   "mimetype": "text/x-python",
   "name": "python",
   "nbconvert_exporter": "python",
   "pygments_lexer": "ipython3",
   "version": "3.8.3"
  }
 },
 "nbformat": 4,
 "nbformat_minor": 4
}
